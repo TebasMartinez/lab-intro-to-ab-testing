{
 "cells": [
  {
   "cell_type": "markdown",
   "id": "392405cd",
   "metadata": {},
   "source": [
    "# LAB | A/B Testing in Python"
   ]
  },
  {
   "cell_type": "markdown",
   "id": "14cf8128",
   "metadata": {},
   "source": [
    "### Challenge 1: 🚀 *Comparing Two Website Versions Using Hypothesis Testing*  "
   ]
  },
  {
   "cell_type": "markdown",
   "id": "1099b7e3",
   "metadata": {},
   "source": [
    "### **Objective**: \n",
    "Perform an A/B test to determine if a new webpage design (`Version B`) leads to a higher **click-through rate (CTR)** than the original (`Version A`).  "
   ]
  },
  {
   "cell_type": "markdown",
   "id": "57115b11",
   "metadata": {},
   "source": [
    "#### 📌 **Project Overview**  \n",
    "We’ll:  \n",
    "1. **Simulate** A/B test data (users & clicks).  \n",
    "2. **Analyze** the results using statistical tests.  \n",
    "3. **Conclude** whether `Version B` performs better.  \n",
    "\n"
   ]
  },
  {
   "cell_type": "markdown",
   "id": "b02d75f8",
   "metadata": {},
   "source": [
    "### **Problem Statement**  \n",
    "You are a data analyst at an e-commerce company. The team wants to test if a new webpage design (`Version B`) increases click-through rates (CTR) compared to the original (`Version A`).  \n",
    "\n",
    "### **Tasks**  \n",
    "1. **Simulate Data**:  \n",
    "   - Generate synthetic data for `Version A` (1000 visitors, 150 clicks) and `Version B` (1050 visitors, 180 clicks).  \n",
    "2. **Statistical Test**:  \n",
    "   - Perform a **Statistical Test** to compare CTRs.  \n",
    "3. **Interpretation**:  \n",
    "   - Determine if the difference is statistically significant (use α = 0.05).  \n",
    "4. **Visualization**:  \n",
    "   - Plot the CTRs for both versions using appropriate chart.  \n",
    "\n",
    "**Deliverables**:  \n",
    "- Code for simulation, testing, and visualization.  \n",
    "- Written conclusion (1–2 sentences) on whether `Version B` performs better.  "
   ]
  },
  {
   "cell_type": "markdown",
   "id": "c0fdd42c",
   "metadata": {},
   "source": [
    "#### 🛠 **Setup & Data Generation**  \n",
    "First, let’s create synthetic data for the experiment.  \n"
   ]
  },
  {
   "cell_type": "code",
   "execution_count": 1,
   "id": "fd3ceeb4",
   "metadata": {},
   "outputs": [],
   "source": [
    "### Import Libraries\n",
    "import numpy as np\n",
    "import pandas as pd\n",
    "from scipy import stats\n",
    "import matplotlib.pyplot as plt"
   ]
  },
  {
   "cell_type": "markdown",
   "id": "7471a52c",
   "metadata": {},
   "source": [
    "> Simulate User Data, We’ll assume:\n",
    "\n",
    "- Version A: 1000 visitors, 150 clicks.\n",
    "\n",
    "- Version B: 1050 visitors, 180 clicks."
   ]
  },
  {
   "cell_type": "code",
   "execution_count": 2,
   "id": "8f0b5265",
   "metadata": {},
   "outputs": [],
   "source": [
    "# Simulate data\n",
    "np.random.seed(42)\n",
    "visitors_a = 1000\n",
    "clicks_a = 150\n",
    "visitors_b = 1050\n",
    "clicks_b = 180"
   ]
  },
  {
   "cell_type": "code",
   "execution_count": 3,
   "id": "3e2f0e33-0fe5-4567-ae50-c48a3e69678f",
   "metadata": {},
   "outputs": [],
   "source": [
    "data_clicks_a = [True if x < clicks_a else False for x in range(visitors_a)]\n",
    "np.random.shuffle(data_clicks_a)\n",
    "data_clicks_b = [True if x < clicks_b else False for x in range(visitors_b)]\n",
    "np.random.shuffle(data_clicks_b)\n",
    "\n",
    "df = pd.DataFrame({\n",
    "        \"version\": [\"A\"] * visitors_a + [\"B\"] * visitors_b,\n",
    "        \"click\": data_clicks_a + data_clicks_b\n",
    "    })"
   ]
  },
  {
   "cell_type": "code",
   "execution_count": 4,
   "id": "e400054e-228d-460f-88e4-1450771a556f",
   "metadata": {},
   "outputs": [
    {
     "data": {
      "text/html": [
       "<div>\n",
       "<style scoped>\n",
       "    .dataframe tbody tr th:only-of-type {\n",
       "        vertical-align: middle;\n",
       "    }\n",
       "\n",
       "    .dataframe tbody tr th {\n",
       "        vertical-align: top;\n",
       "    }\n",
       "\n",
       "    .dataframe thead th {\n",
       "        text-align: right;\n",
       "    }\n",
       "</style>\n",
       "<table border=\"1\" class=\"dataframe\">\n",
       "  <thead>\n",
       "    <tr style=\"text-align: right;\">\n",
       "      <th></th>\n",
       "      <th>version</th>\n",
       "      <th>click</th>\n",
       "    </tr>\n",
       "  </thead>\n",
       "  <tbody>\n",
       "    <tr>\n",
       "      <th>0</th>\n",
       "      <td>A</td>\n",
       "      <td>False</td>\n",
       "    </tr>\n",
       "    <tr>\n",
       "      <th>1</th>\n",
       "      <td>A</td>\n",
       "      <td>False</td>\n",
       "    </tr>\n",
       "    <tr>\n",
       "      <th>2</th>\n",
       "      <td>A</td>\n",
       "      <td>False</td>\n",
       "    </tr>\n",
       "    <tr>\n",
       "      <th>3</th>\n",
       "      <td>A</td>\n",
       "      <td>False</td>\n",
       "    </tr>\n",
       "    <tr>\n",
       "      <th>4</th>\n",
       "      <td>A</td>\n",
       "      <td>False</td>\n",
       "    </tr>\n",
       "    <tr>\n",
       "      <th>...</th>\n",
       "      <td>...</td>\n",
       "      <td>...</td>\n",
       "    </tr>\n",
       "    <tr>\n",
       "      <th>2045</th>\n",
       "      <td>B</td>\n",
       "      <td>False</td>\n",
       "    </tr>\n",
       "    <tr>\n",
       "      <th>2046</th>\n",
       "      <td>B</td>\n",
       "      <td>False</td>\n",
       "    </tr>\n",
       "    <tr>\n",
       "      <th>2047</th>\n",
       "      <td>B</td>\n",
       "      <td>True</td>\n",
       "    </tr>\n",
       "    <tr>\n",
       "      <th>2048</th>\n",
       "      <td>B</td>\n",
       "      <td>False</td>\n",
       "    </tr>\n",
       "    <tr>\n",
       "      <th>2049</th>\n",
       "      <td>B</td>\n",
       "      <td>True</td>\n",
       "    </tr>\n",
       "  </tbody>\n",
       "</table>\n",
       "<p>2050 rows × 2 columns</p>\n",
       "</div>"
      ],
      "text/plain": [
       "     version  click\n",
       "0          A  False\n",
       "1          A  False\n",
       "2          A  False\n",
       "3          A  False\n",
       "4          A  False\n",
       "...      ...    ...\n",
       "2045       B  False\n",
       "2046       B  False\n",
       "2047       B   True\n",
       "2048       B  False\n",
       "2049       B   True\n",
       "\n",
       "[2050 rows x 2 columns]"
      ]
     },
     "execution_count": 4,
     "metadata": {},
     "output_type": "execute_result"
    }
   ],
   "source": [
    "df"
   ]
  },
  {
   "cell_type": "markdown",
   "id": "b007477e",
   "metadata": {},
   "source": [
    "📊 Perform A/B Test\n",
    "We’ll use a Chi-Square Test to compare proportions.\n",
    "\n",
    "- Hypotheses"
   ]
  },
  {
   "cell_type": "code",
   "execution_count": 5,
   "id": "7b10c736",
   "metadata": {},
   "outputs": [],
   "source": [
    "# Null Hypothesis (H₀): There is not a statistically significant difference between CRT_A and CRT_B\n",
    "# Alternative Hypothesis: There is a statistically significant difference between CRT_A and CRT_B"
   ]
  },
  {
   "cell_type": "markdown",
   "id": "6f94acbe",
   "metadata": {},
   "source": [
    "\n",
    "- Run the Test"
   ]
  },
  {
   "cell_type": "code",
   "execution_count": 6,
   "id": "5b1fcda3",
   "metadata": {},
   "outputs": [
    {
     "data": {
      "text/html": [
       "<div>\n",
       "<style scoped>\n",
       "    .dataframe tbody tr th:only-of-type {\n",
       "        vertical-align: middle;\n",
       "    }\n",
       "\n",
       "    .dataframe tbody tr th {\n",
       "        vertical-align: top;\n",
       "    }\n",
       "\n",
       "    .dataframe thead th {\n",
       "        text-align: right;\n",
       "    }\n",
       "</style>\n",
       "<table border=\"1\" class=\"dataframe\">\n",
       "  <thead>\n",
       "    <tr style=\"text-align: right;\">\n",
       "      <th>click</th>\n",
       "      <th>False</th>\n",
       "      <th>True</th>\n",
       "    </tr>\n",
       "    <tr>\n",
       "      <th>version</th>\n",
       "      <th></th>\n",
       "      <th></th>\n",
       "    </tr>\n",
       "  </thead>\n",
       "  <tbody>\n",
       "    <tr>\n",
       "      <th>A</th>\n",
       "      <td>850</td>\n",
       "      <td>150</td>\n",
       "    </tr>\n",
       "    <tr>\n",
       "      <th>B</th>\n",
       "      <td>870</td>\n",
       "      <td>180</td>\n",
       "    </tr>\n",
       "  </tbody>\n",
       "</table>\n",
       "</div>"
      ],
      "text/plain": [
       "click    False  True \n",
       "version              \n",
       "A          850    150\n",
       "B          870    180"
      ]
     },
     "execution_count": 6,
     "metadata": {},
     "output_type": "execute_result"
    }
   ],
   "source": [
    "crosstab_result = pd.crosstab(df[\"version\"], df[\"click\"])\n",
    "\n",
    "crosstab_result"
   ]
  },
  {
   "cell_type": "code",
   "execution_count": 7,
   "id": "e6a696b8-8a84-427b-b506-4e09ac3247d4",
   "metadata": {},
   "outputs": [
    {
     "data": {
      "text/plain": [
       "(1.5863116736299872, 0.20785388523374118)"
      ]
     },
     "execution_count": 7,
     "metadata": {},
     "output_type": "execute_result"
    }
   ],
   "source": [
    "chi2_statistic, chi2_p_value, _, _ = stats.chi2_contingency(crosstab_result)\n",
    "\n",
    "chi2_statistic, chi2_p_value"
   ]
  },
  {
   "cell_type": "markdown",
   "id": "c52bcea2",
   "metadata": {},
   "source": [
    "> Interpret Results"
   ]
  },
  {
   "cell_type": "code",
   "execution_count": 8,
   "id": "a2c7c16c",
   "metadata": {},
   "outputs": [
    {
     "name": "stdout",
     "output_type": "stream",
     "text": [
      "P-value: 0.20785388523374118\n",
      "There is not enough evidence to reject the null hypothesis. There is not a statistically significant difference between the CTR in Version A and Version B.\n"
     ]
    }
   ],
   "source": [
    "print(f\"P-value: {chi2_p_value}\")\n",
    "if chi2_p_value < 0.05:\n",
    "    print(\"There is enough evidence to reject the null hypothesis. There is a statistically significant difference between the CTR in Version A and Version B.\")\n",
    "else:\n",
    "    print(\"There is not enough evidence to reject the null hypothesis. There is not a statistically significant difference between the CTR in Version A and Version B.\")"
   ]
  },
  {
   "cell_type": "markdown",
   "id": "c925ed9f",
   "metadata": {},
   "source": [
    "📈 Visualization"
   ]
  },
  {
   "cell_type": "code",
   "execution_count": 9,
   "id": "94ca3b5a",
   "metadata": {},
   "outputs": [
    {
     "data": {
      "image/png": "[encoded data removed]",
      "text/plain": [
       "<Figure size 640x480 with 1 Axes>"
      ]
     },
     "metadata": {},
     "output_type": "display_data"
    }
   ],
   "source": [
    "versions = df[\"version\"].unique()\n",
    "\n",
    "ctr_a = df[df[\"version\"] == \"A\"][\"click\"].mean()\n",
    "ctr_b = df[df[\"version\"] == \"B\"][\"click\"].mean()\n",
    "ctrs = [ctr_a, ctr_b]\n",
    "\n",
    "plt.bar(versions, ctrs, color=[\"skyblue\", \"orange\"])\n",
    "plt.ylabel(\"Click-Through Rate (CTR)\")\n",
    "plt.title(\"CTR Comparison: Version A vs Version B\")\n",
    "plt.show()"
   ]
  },
  {
   "cell_type": "markdown",
   "id": "afdb44b2",
   "metadata": {},
   "source": [
    "## Challenge 2: 🚀 A/B Testing Challenge with Real Data"
   ]
  },
  {
   "cell_type": "markdown",
   "id": "67bd5560",
   "metadata": {},
   "source": [
    "#### **Objective**:  \n",
    "1. Analyze **real A/B test data** (from Kaggle) to compare conversion rates.  \n",
    "2. Use **bootstrapping** to estimate confidence intervals.  \n",
    "\n",
    "---\n",
    "\n",
    "#### 📌 **Project Overview**  \n",
    "We’ll:  \n",
    "1. **Load real A/B test data** (user sessions and conversions).  \n",
    "2. **Compare conversion rates** using statistical tests.  \n",
    "3. **Apply bootstrapping** to validate results.  \n",
    "\n"
   ]
  },
  {
   "cell_type": "markdown",
   "id": "ec536e52",
   "metadata": {},
   "source": [
    "### **Problem Statement**  \n",
    "Use the [Kaggle Marketing A/B Test dataset](https://www.kaggle.com/datasets/faviovaz/marketing-ab-testing) to analyze if a new marketing campaign (`Group B`) improves conversion rates over the old campaign (`Group A`).  \n",
    "\n",
    "### **Tasks**  \n",
    "1. **Data Preparation**:  \n",
    "   - Load the dataset and explore key metrics (sample sizes, conversion rates).  \n",
    "2. **Hypothesis Testing**:  \n",
    "   - Perform a **Statistical Test** to compare conversions between groups.  \n",
    "3. **Bootstrapping**:  \n",
    "   - Implement bootstrapping (`n=1000` resamples) to estimate 95% confidence intervals for conversion rates.  \n",
    "4. **Visualization**:  \n",
    "   -Compare conversion rates for both groups.  \n",
    "\n",
    "**Deliverables**:  \n",
    "- Code for analysis and bootstrapping.  \n",
    "- Answers:  \n",
    "  - P-value and statistical conclusion.  \n",
    "  - Confidence intervals for both groups.  "
   ]
  },
  {
   "cell_type": "markdown",
   "id": "812e92c7",
   "metadata": {},
   "source": [
    "#### 🛠 **Setup & Data Loading**  \n"
   ]
  },
  {
   "cell_type": "code",
   "execution_count": 10,
   "id": "a855dda5",
   "metadata": {},
   "outputs": [],
   "source": [
    "### Import Libraries\n",
    "import numpy as np\n",
    "import pandas as pd\n",
    "from scipy import stats\n",
    "import matplotlib.pyplot as plt\n",
    "from statsmodels.stats.proportion import proportions_ztest"
   ]
  },
  {
   "cell_type": "markdown",
   "id": "55a40acd",
   "metadata": {},
   "source": [
    "> Load Open-Source Dataset\n",
    "We’ll use the [\"A/B Test Results\"](https://www.kaggle.com/datasets/faviovaz/marketing-ab-testing) dataset from Kaggle."
   ]
  },
  {
   "cell_type": "code",
   "execution_count": 11,
   "id": "1824729f",
   "metadata": {},
   "outputs": [],
   "source": [
    "# Load data (ensure CSV is in your working directory)\n",
    "data = pd.read_csv(\"./data/marketing_AB.csv\")  # Download from Kaggle first!"
   ]
  },
  {
   "cell_type": "code",
   "execution_count": 12,
   "id": "e47fd7c0-d999-4d3f-bf5f-a49fe6b60b3b",
   "metadata": {},
   "outputs": [],
   "source": [
    "data = data.drop(columns=[\"Unnamed: 0\"])"
   ]
  },
  {
   "cell_type": "code",
   "execution_count": 13,
   "id": "5ca29376-5bec-4b40-b539-a870f07b1402",
   "metadata": {},
   "outputs": [
    {
     "data": {
      "text/html": [
       "<div>\n",
       "<style scoped>\n",
       "    .dataframe tbody tr th:only-of-type {\n",
       "        vertical-align: middle;\n",
       "    }\n",
       "\n",
       "    .dataframe tbody tr th {\n",
       "        vertical-align: top;\n",
       "    }\n",
       "\n",
       "    .dataframe thead th {\n",
       "        text-align: right;\n",
       "    }\n",
       "</style>\n",
       "<table border=\"1\" class=\"dataframe\">\n",
       "  <thead>\n",
       "    <tr style=\"text-align: right;\">\n",
       "      <th></th>\n",
       "      <th>user id</th>\n",
       "      <th>test group</th>\n",
       "      <th>converted</th>\n",
       "      <th>total ads</th>\n",
       "      <th>most ads day</th>\n",
       "      <th>most ads hour</th>\n",
       "    </tr>\n",
       "  </thead>\n",
       "  <tbody>\n",
       "    <tr>\n",
       "      <th>0</th>\n",
       "      <td>1069124</td>\n",
       "      <td>ad</td>\n",
       "      <td>False</td>\n",
       "      <td>130</td>\n",
       "      <td>Monday</td>\n",
       "      <td>20</td>\n",
       "    </tr>\n",
       "    <tr>\n",
       "      <th>1</th>\n",
       "      <td>1119715</td>\n",
       "      <td>ad</td>\n",
       "      <td>False</td>\n",
       "      <td>93</td>\n",
       "      <td>Tuesday</td>\n",
       "      <td>22</td>\n",
       "    </tr>\n",
       "    <tr>\n",
       "      <th>2</th>\n",
       "      <td>1144181</td>\n",
       "      <td>ad</td>\n",
       "      <td>False</td>\n",
       "      <td>21</td>\n",
       "      <td>Tuesday</td>\n",
       "      <td>18</td>\n",
       "    </tr>\n",
       "    <tr>\n",
       "      <th>3</th>\n",
       "      <td>1435133</td>\n",
       "      <td>ad</td>\n",
       "      <td>False</td>\n",
       "      <td>355</td>\n",
       "      <td>Tuesday</td>\n",
       "      <td>10</td>\n",
       "    </tr>\n",
       "    <tr>\n",
       "      <th>4</th>\n",
       "      <td>1015700</td>\n",
       "      <td>ad</td>\n",
       "      <td>False</td>\n",
       "      <td>276</td>\n",
       "      <td>Friday</td>\n",
       "      <td>14</td>\n",
       "    </tr>\n",
       "    <tr>\n",
       "      <th>...</th>\n",
       "      <td>...</td>\n",
       "      <td>...</td>\n",
       "      <td>...</td>\n",
       "      <td>...</td>\n",
       "      <td>...</td>\n",
       "      <td>...</td>\n",
       "    </tr>\n",
       "    <tr>\n",
       "      <th>588096</th>\n",
       "      <td>1278437</td>\n",
       "      <td>ad</td>\n",
       "      <td>False</td>\n",
       "      <td>1</td>\n",
       "      <td>Tuesday</td>\n",
       "      <td>23</td>\n",
       "    </tr>\n",
       "    <tr>\n",
       "      <th>588097</th>\n",
       "      <td>1327975</td>\n",
       "      <td>ad</td>\n",
       "      <td>False</td>\n",
       "      <td>1</td>\n",
       "      <td>Tuesday</td>\n",
       "      <td>23</td>\n",
       "    </tr>\n",
       "    <tr>\n",
       "      <th>588098</th>\n",
       "      <td>1038442</td>\n",
       "      <td>ad</td>\n",
       "      <td>False</td>\n",
       "      <td>3</td>\n",
       "      <td>Tuesday</td>\n",
       "      <td>23</td>\n",
       "    </tr>\n",
       "    <tr>\n",
       "      <th>588099</th>\n",
       "      <td>1496395</td>\n",
       "      <td>ad</td>\n",
       "      <td>False</td>\n",
       "      <td>1</td>\n",
       "      <td>Tuesday</td>\n",
       "      <td>23</td>\n",
       "    </tr>\n",
       "    <tr>\n",
       "      <th>588100</th>\n",
       "      <td>1237779</td>\n",
       "      <td>ad</td>\n",
       "      <td>False</td>\n",
       "      <td>1</td>\n",
       "      <td>Tuesday</td>\n",
       "      <td>23</td>\n",
       "    </tr>\n",
       "  </tbody>\n",
       "</table>\n",
       "<p>588101 rows × 6 columns</p>\n",
       "</div>"
      ],
      "text/plain": [
       "        user id test group  converted  total ads most ads day  most ads hour\n",
       "0       1069124         ad      False        130       Monday             20\n",
       "1       1119715         ad      False         93      Tuesday             22\n",
       "2       1144181         ad      False         21      Tuesday             18\n",
       "3       1435133         ad      False        355      Tuesday             10\n",
       "4       1015700         ad      False        276       Friday             14\n",
       "...         ...        ...        ...        ...          ...            ...\n",
       "588096  1278437         ad      False          1      Tuesday             23\n",
       "588097  1327975         ad      False          1      Tuesday             23\n",
       "588098  1038442         ad      False          3      Tuesday             23\n",
       "588099  1496395         ad      False          1      Tuesday             23\n",
       "588100  1237779         ad      False          1      Tuesday             23\n",
       "\n",
       "[588101 rows x 6 columns]"
      ]
     },
     "execution_count": 13,
     "metadata": {},
     "output_type": "execute_result"
    }
   ],
   "source": [
    "data"
   ]
  },
  {
   "cell_type": "code",
   "execution_count": 14,
   "id": "a9bf7568-275e-4283-bc9a-6d03fc6c3f5e",
   "metadata": {},
   "outputs": [
    {
     "data": {
      "text/plain": [
       "array(['ad', 'psa'], dtype=object)"
      ]
     },
     "execution_count": 14,
     "metadata": {},
     "output_type": "execute_result"
    }
   ],
   "source": [
    "data[\"test group\"].unique()"
   ]
  },
  {
   "cell_type": "code",
   "execution_count": 15,
   "id": "a283a80f-4f5b-4271-ab1f-e9a75d4d118f",
   "metadata": {},
   "outputs": [],
   "source": [
    "# As per description on Kaggle: \n",
    "# If \"ad\" the person saw the advertisement, \n",
    "# if \"psa\" they only saw the public service announcement."
   ]
  },
  {
   "cell_type": "markdown",
   "id": "16057220",
   "metadata": {},
   "source": [
    "📊 Part 1: Traditional A/B Test\n",
    "> Calculate Conversion Rates"
   ]
  },
  {
   "cell_type": "code",
   "execution_count": 16,
   "id": "cd057166-0c4a-430c-ba77-263c7b3ce383",
   "metadata": {},
   "outputs": [],
   "source": [
    "# Count total ads and total conversions for ads and psa\n",
    "ad_n = data[data[\"test group\"]==\"ad\"][\"total ads\"].sum()\n",
    "psa_n = data[data[\"test group\"]==\"psa\"][\"total ads\"].sum()\n",
    "ad_conv_n = data[data[\"test group\"]==\"ad\"][\"converted\"].sum()\n",
    "psa_conv_n = data[data[\"test group\"]==\"psa\"][\"converted\"].sum()"
   ]
  },
  {
   "cell_type": "code",
   "execution_count": 17,
   "id": "56fab67b",
   "metadata": {},
   "outputs": [
    {
     "name": "stdout",
     "output_type": "stream",
     "text": [
      "Ads Conversion Rate per ad: 0.10%\n"
     ]
    }
   ],
   "source": [
    "cr_ad = ad_conv_n / ad_n\n",
    "print(f\"Ads Conversion Rate per ad: {cr_ad*100:.2f}%\")"
   ]
  },
  {
   "cell_type": "code",
   "execution_count": 18,
   "id": "2c8d9cbe-b892-4a78-bdb8-3f40d2359e18",
   "metadata": {},
   "outputs": [
    {
     "name": "stdout",
     "output_type": "stream",
     "text": [
      "PSA Conversion Rate per ad: 0.07%\n"
     ]
    }
   ],
   "source": [
    "cr_psa = psa_conv_n / psa_n\n",
    "print(f\"PSA Conversion Rate per ad: {cr_psa*100:.2f}%\")"
   ]
  },
  {
   "cell_type": "code",
   "execution_count": 19,
   "id": "343375ee-ba3c-405d-ac47-95421c011d3c",
   "metadata": {},
   "outputs": [
    {
     "name": "stdout",
     "output_type": "stream",
     "text": [
      "Ads Conversion Rate per user: 2.55%\n"
     ]
    }
   ],
   "source": [
    "print(f\"Ads Conversion Rate per user: {data[data[\"test group\"]==\"ad\"][\"converted\"].mean()*100:.2f}%\")"
   ]
  },
  {
   "cell_type": "code",
   "execution_count": 20,
   "id": "7ceb5c04-538d-4d60-ad6d-0d9be5863e4c",
   "metadata": {},
   "outputs": [
    {
     "name": "stdout",
     "output_type": "stream",
     "text": [
      "PSA Conversion Rate per user: 1.79%\n"
     ]
    }
   ],
   "source": [
    "print(f\"PSA Conversion Rate per user: {data[data[\"test group\"]==\"psa\"][\"converted\"].mean()*100:.2f}%\")"
   ]
  },
  {
   "cell_type": "markdown",
   "id": "a1321446",
   "metadata": {},
   "source": [
    "> Statistical Test"
   ]
  },
  {
   "cell_type": "code",
   "execution_count": 21,
   "id": "decf60de",
   "metadata": {},
   "outputs": [
    {
     "name": "stdout",
     "output_type": "stream",
     "text": [
      "T-statistic: 7.37040597428566\n",
      "P-value: 1.7033052627831264e-13\n",
      "There is a significant difference between the two groups.\n"
     ]
    }
   ],
   "source": [
    "# Compares conversion (converted True or False per user) between the two groups per user, \n",
    "# regardless of conversion rate per ad seen(!)\n",
    "\n",
    "ad = data[data[\"test group\"]==\"ad\"][\"converted\"]\n",
    "psa = data[data[\"test group\"]==\"psa\"][\"converted\"]\n",
    "\n",
    "# Perform the t-test\n",
    "t_stat, p_value = stats.ttest_ind(ad, psa)\n",
    "\n",
    "# Print the results\n",
    "print(f\"T-statistic: {t_stat}\")\n",
    "print(f\"P-value: {p_value}\")\n",
    "\n",
    "# Interpretation\n",
    "if p_value < 0.05:\n",
    "    print(\"There is a significant difference between the two groups.\")\n",
    "else:\n",
    "    print(\"There is no significant difference between the two groups.\")"
   ]
  },
  {
   "cell_type": "code",
   "execution_count": 22,
   "id": "29c5f99e-d26d-4b7a-bc04-07b16e1c523f",
   "metadata": {},
   "outputs": [
    {
     "name": "stdout",
     "output_type": "stream",
     "text": [
      "Z-statistic: 7.228637767350958\n",
      "P-value: 4.878627648760414e-13\n",
      "There is a significant difference between the two groups.\n"
     ]
    }
   ],
   "source": [
    "# Compares conversion rate per ad\n",
    "counts = [ad_conv_n, psa_conv_n]\n",
    "nobs = [ad_n, psa_n]\n",
    "\n",
    "stat, p_value = proportions_ztest(counts, nobs)\n",
    "\n",
    "print(f\"Z-statistic: {stat}\")\n",
    "print(f\"P-value: {p_value}\")\n",
    "\n",
    "# Interpretation\n",
    "if p_value < 0.05:\n",
    "    print(\"There is a significant difference between the two groups.\")\n",
    "else:\n",
    "    print(\"There is no significant difference between the two groups.\")"
   ]
  },
  {
   "cell_type": "markdown",
   "id": "7dd2ccd0",
   "metadata": {},
   "source": [
    "#### EXTRA 📈 Part 2: Bootstrapping Challenge\n",
    "**Why Bootstrapping?**\n",
    " - Bootstrapping helps estimate confidence intervals for conversion rates by resampling data.\n",
    "\n",
    "> Bootstrap Function"
   ]
  },
  {
   "cell_type": "code",
   "execution_count": 23,
   "id": "1ad5d36a",
   "metadata": {},
   "outputs": [
    {
     "name": "stdout",
     "output_type": "stream",
     "text": [
      "Confidence intervals per user for the Ads group: 2.51%, 2.59%\n",
      "Confidence intervals per user for the PSA group: 1.62%, 1.95%\n"
     ]
    }
   ],
   "source": [
    "# Conversion (converted True or False per user) between the two groups per user, \n",
    "# regardless of conversion rate per ad seen(!)\n",
    "def bootstrap_per_user(data, resamples=1000):\n",
    "    resample_means = []\n",
    "    for _ in range(resamples):\n",
    "        # Resample with replacement\n",
    "        resample = np.random.choice(data, size=len(data), replace=True)\n",
    "        avg = resample.mean()\n",
    "        resample_means.append(avg)\n",
    "    ci_lower = np.percentile(resample_means, 2.5)\n",
    "    ci_upper = np.percentile(resample_means, 97.5)\n",
    "    return ci_lower, ci_upper, resample_means\n",
    "\n",
    "ad_lower_per_user, ad_upper_per_user, ad_resample_means_per_user = bootstrap_per_user(ad)\n",
    "psa_lower_per_user, psa_upper_per_user, psa_resample_means_per_user = bootstrap_per_user(psa)\n",
    "print(f\"Confidence intervals per user for the Ads group: {ad_lower_per_user*100:.2f}%, {ad_upper_per_user*100:.2f}%\")\n",
    "print(f\"Confidence intervals per user for the PSA group: {psa_lower_per_user*100:.2f}%, {psa_upper_per_user*100:.2f}%\")"
   ]
  },
  {
   "cell_type": "code",
   "execution_count": 24,
   "id": "86de85ed-af62-42eb-99f2-6fbdb0d21903",
   "metadata": {},
   "outputs": [
    {
     "name": "stdout",
     "output_type": "stream",
     "text": [
      "Confidence intervals per ad for the Ads group: 0.1013%, 0.1046%\n",
      "Confidence intervals per ad for the PSA group: 0.0650%, 0.0790%\n"
     ]
    }
   ],
   "source": [
    "# Conversion Rate per ad\n",
    "def bootstrap_per_ad(data, resamples=1000):\n",
    "    resample_means = []\n",
    "    for _ in range(resamples):\n",
    "        # Resample with replacement\n",
    "        resample = data.sample(n=len(data), replace=True)\n",
    "        avg = resample[\"converted\"].sum() / resample[\"total ads\"].sum()\n",
    "        resample_means.append(avg)\n",
    "    ci_lower = np.percentile(resample_means, 2.5)\n",
    "    ci_upper = np.percentile(resample_means, 97.5)\n",
    "    return ci_lower, ci_upper, resample_means\n",
    "\n",
    "ad_group = data[data[\"test group\"]==\"ad\"]\n",
    "psa_group = data[data[\"test group\"]==\"psa\"]\n",
    "ad_lower_per_ad, ad_upper_per_ad, ad_resample_means_per_ad = bootstrap_per_ad(ad_group)\n",
    "psa_lower_per_ad, psa_upper_per_ad, psa_resample_means_per_ad = bootstrap_per_ad(psa_group)\n",
    "print(f\"Confidence intervals per ad for the Ads group: {ad_lower_per_ad*100:.4f}%, {ad_upper_per_ad*100:.4f}%\")\n",
    "print(f\"Confidence intervals per ad for the PSA group: {psa_lower_per_ad*100:.4f}%, {psa_upper_per_ad*100:.4f}%\")"
   ]
  },
  {
   "cell_type": "markdown",
   "id": "e9015c19",
   "metadata": {},
   "source": [
    ">Visualize Results"
   ]
  },
  {
   "cell_type": "code",
   "execution_count": 25,
   "id": "f4098456-fd31-493b-b715-cd448779b941",
   "metadata": {},
   "outputs": [
    {
     "data": {
      "image/png": "[encoded data removed]",
      "text/plain": [
       "<Figure size 1200x400 with 2 Axes>"
      ]
     },
     "metadata": {},
     "output_type": "display_data"
    }
   ],
   "source": [
    "plt.figure(figsize=(12, 4))\n",
    "\n",
    "plt.subplot(1, 2, 1)\n",
    "plt.hist(ad_resample_means_per_user, bins=30, color='skyblue', edgecolor='black')\n",
    "plt.axvline(ad_lower_per_user, color='red', linestyle='--', label=f'Lower 95% CI ({ad_lower_per_user*100:.2f}%)')\n",
    "plt.axvline(ad_upper_per_user, color='red', linestyle='-', label=f'Upper 95% CI ({ad_upper_per_user*100:.2f}%)')\n",
    "plt.title('Bootstrapping for Ads Group per user')\n",
    "plt.xlabel('Conversion Rate')\n",
    "plt.ylabel('Frequency')\n",
    "plt.legend()\n",
    "\n",
    "plt.subplot(1, 2, 2)\n",
    "plt.hist(psa_resample_means_per_user, bins=30, color='skyblue', edgecolor='black')\n",
    "plt.axvline(psa_lower_per_user, color='red', linestyle='--', label=f'Lower 95% CI ({psa_lower_per_user*100:.2f}%)')\n",
    "plt.axvline(psa_upper_per_user, color='red', linestyle='-', label=f'Upper 95% CI ({psa_upper_per_user*100:.2f}%)')\n",
    "plt.title('Bootstrapping for PSA Group per user')\n",
    "plt.xlabel('Conversion Rate')\n",
    "plt.ylabel('Frequency')\n",
    "plt.legend()\n",
    "\n",
    "plt.tight_layout()\n",
    "plt.show()"
   ]
  },
  {
   "cell_type": "code",
   "execution_count": 26,
   "id": "8a737b3f",
   "metadata": {},
   "outputs": [
    {
     "data": {
      "image/png": "[encoded data removed]",
      "text/plain": [
       "<Figure size 1200x400 with 2 Axes>"
      ]
     },
     "metadata": {},
     "output_type": "display_data"
    }
   ],
   "source": [
    "plt.figure(figsize=(12, 4))\n",
    "\n",
    "plt.subplot(1, 2, 1)\n",
    "plt.hist(ad_resample_means_per_ad, bins=30, color='skyblue', edgecolor='black')\n",
    "plt.axvline(ad_lower_per_ad, color='red', linestyle='--', label=f'Lower 95% CI ({ad_lower_per_ad*100:.4f}%)')\n",
    "plt.axvline(ad_upper_per_ad, color='red', linestyle='-', label=f'Upper 95% CI ({ad_upper_per_ad*100:.4f}%)')\n",
    "plt.title('Bootstrapping for Ads Group per ad')\n",
    "plt.xlabel('Conversion Rate')\n",
    "plt.ylabel('Frequency')\n",
    "plt.legend()\n",
    "\n",
    "plt.subplot(1, 2, 2)\n",
    "plt.hist(psa_resample_means_per_ad, bins=30, color='skyblue', edgecolor='black')\n",
    "plt.axvline(psa_lower_per_ad, color='red', linestyle='--', label=f'Lower 95% CI ({psa_lower_per_ad*100:.4f}%)')\n",
    "plt.axvline(psa_upper_per_ad, color='red', linestyle='-', label=f'Upper 95% CI ({psa_upper_per_ad*100:.4f}%)')\n",
    "plt.title('Bootstrapping for PSA Group per ad')\n",
    "plt.xlabel('Conversion Rate')\n",
    "plt.ylabel('Frequency')\n",
    "plt.legend()\n",
    "\n",
    "plt.tight_layout()\n",
    "plt.show()"
   ]
  },
  {
   "cell_type": "markdown",
   "id": "f4e2aec7",
   "metadata": {},
   "source": [
    "## (Bonus) Challenge 3: 🎮 Advanced A/B Testing Challenge: Cookie Cats Retention Analysis "
   ]
  },
  {
   "cell_type": "markdown",
   "id": "aa0a8423",
   "metadata": {},
   "source": [
    "#### **Objective**:  \n",
    "1. Analyze player **retention rates** in the `cookie_cats` mobile game A/B test.  \n",
    "2. Implement **sequential testing** (to avoid peeking at results prematurely).  \n",
    "3. Conduct **power analysis** to determine optimal sample size.  \n",
    "\n",
    "### **Problem Statement**  \n",
    "Analyze the [Cookie Cats dataset](https://www.kaggle.com/datasets/yufengsui/mobile-games-ab-testing) to determine if moving the game’s first gate from level 30 (`gate_30`) to level 40 (`gate_40`) affects player retention.  \n",
    "\n",
    "### **Tasks**  \n",
    "1. **Retention Analysis**:  \n",
    "   - Compare **1-day retention rates** between `gate_30` and `gate_40` using a Z-test.  \n",
    "2. **Sequential Testing**:  \n",
    "   - Simulate checking results at intervals (every 500 users) to avoid \"peeking bias.\"  \n",
    "3. **Power Analysis**:  \n",
    "   - Calculate the required sample size to detect a 2% difference in retention (α = 0.05, power = 0.8).  \n",
    "4. **Optional**:  \n",
    "   - Repeat analysis for **7-day retention**.  \n",
    "\n",
    "**Deliverables**:  \n",
    "- Code for retention comparison, sequential testing, and power analysis.  \n",
    "- Written summary:  \n",
    "  - Does `gate_40` significantly impact retention?  \n",
    "  - How does sequential testing affect decision-making?  "
   ]
  },
  {
   "cell_type": "markdown",
   "id": "167d7506",
   "metadata": {},
   "source": [
    "\n",
    "\n",
    "### 🛠 **Setup & Data Loading**  \n"
   ]
  },
  {
   "cell_type": "code",
   "execution_count": null,
   "id": "204f33c6",
   "metadata": {},
   "outputs": [],
   "source": [
    "# Import Libraries"
   ]
  },
  {
   "cell_type": "code",
   "execution_count": null,
   "id": "9bf078ee",
   "metadata": {},
   "outputs": [],
   "source": [
    "# Load dataset \n",
    "data = pd.read_csv(\"./data/cookie_cats.csv\")  # Columns: userid, version, sum_gamerounds, retention_1, retention_7"
   ]
  },
  {
   "cell_type": "markdown",
   "id": "2ea7a8be",
   "metadata": {},
   "source": []
  },
  {
   "cell_type": "markdown",
   "id": "edcbe2d5",
   "metadata": {},
   "source": [
    "📊 Part 1: Retention Rate Analysis\n",
    "> Compare 1-Day Retention"
   ]
  },
  {
   "cell_type": "code",
   "execution_count": null,
   "id": "25577893",
   "metadata": {},
   "outputs": [],
   "source": [
    "# TODO\n",
    "# Insert your code HERE"
   ]
  },
  {
   "cell_type": "markdown",
   "id": "d60c1de3",
   "metadata": {},
   "source": [
    "> Statistical Test"
   ]
  },
  {
   "cell_type": "code",
   "execution_count": null,
   "id": "119db7c3",
   "metadata": {},
   "outputs": [],
   "source": [
    "# TODO\n",
    "# Insert your code HERE"
   ]
  },
  {
   "cell_type": "markdown",
   "id": "8033db00",
   "metadata": {},
   "source": []
  },
  {
   "cell_type": "markdown",
   "id": "4aad973a",
   "metadata": {},
   "source": [
    "📈 Part 2: Sequential Testing\n",
    ">  Why Sequential Testing?\n",
    "\n",
    "- Avoids \"peeking\" at results prematurely by checking at intervals."
   ]
  },
  {
   "cell_type": "code",
   "execution_count": null,
   "id": "04f99261",
   "metadata": {},
   "outputs": [],
   "source": [
    "# TODO\n",
    "# Insert your code HERE"
   ]
  },
  {
   "cell_type": "markdown",
   "id": "44abb17b",
   "metadata": {},
   "source": [
    "⚡ Part 3: Power Analysis\n",
    ">  Determine Required Sample Size"
   ]
  },
  {
   "cell_type": "code",
   "execution_count": null,
   "id": "7906bad8",
   "metadata": {},
   "outputs": [],
   "source": [
    "# TODO\n",
    "# Insert your code HERE"
   ]
  },
  {
   "cell_type": "markdown",
   "id": "f62d1be7",
   "metadata": {},
   "source": [
    "Enjoy & Happy A/B Testing :) ......!"
   ]
  },
  {
   "cell_type": "markdown",
   "id": "43332a5a",
   "metadata": {},
   "source": []
  },
  {
   "cell_type": "markdown",
   "id": "9bbc500f",
   "metadata": {},
   "source": []
  }
 ],
 "metadata": {
  "kernelspec": {
   "display_name": "Python [conda env:base] *",
   "language": "python",
   "name": "conda-base-py"
  },
  "language_info": {
   "codemirror_mode": {
    "name": "ipython",
    "version": 3
   },
   "file_extension": ".py",
   "mimetype": "text/x-python",
   "name": "python",
   "nbconvert_exporter": "python",
   "pygments_lexer": "ipython3",
   "version": "3.12.7"
  }
 },
 "nbformat": 4,
 "nbformat_minor": 5
}
